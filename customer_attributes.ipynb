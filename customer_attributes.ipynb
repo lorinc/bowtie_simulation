{
  "nbformat": 4,
  "nbformat_minor": 0,
  "metadata": {
    "colab": {
      "provenance": [],
      "authorship_tag": "ABX9TyNEYQd/plXuFlPiY8Y6E1lX"
    },
    "kernelspec": {
      "name": "python3",
      "display_name": "Python 3"
    },
    "language_info": {
      "name": "python"
    }
  },
  "cells": [
    {
      "cell_type": "code",
      "execution_count": 1,
      "metadata": {
        "id": "8rSdsi3NlkbR"
      },
      "outputs": [],
      "source": [
        "customer_attributes = {\n",
        "   \"demographics\":[\n",
        "      \"represented_group_size\",\n",
        "      \"group_budget\",\n",
        "      \"capital_vs_rural\",\n",
        "      \"education\",\n",
        "      \"gender\",\n",
        "      \"age\"\n",
        "   ],\n",
        "   \"values\":{\n",
        "      \"product\":[\n",
        "         \"quality\",\n",
        "         \"price\"\n",
        "      ],\n",
        "      \"service\":[\n",
        "         \"stock_availability\",\n",
        "         \"range_size\",\n",
        "         \"education\",\n",
        "         \"delivery_time\",\n",
        "         \"delivery_price\",\n",
        "         \"packaging_quality\",\n",
        "         \"offers_and_discounts\",\n",
        "         \"customization_options\",\n",
        "         \"personalization_options\",\n",
        "         \"warranty_and_support\",\n",
        "         \"support_levels\"\n",
        "      ],\n",
        "      \"marketing\":[\n",
        "         \"appreciation\",\n",
        "         \"hospitality\",\n",
        "         \"srarcity_offers\",\n",
        "         \"discounts\",\n",
        "         \"loyalty_programs\",\n",
        "         \"referral_programs\",\n",
        "         \"events\"\n",
        "      ],\n",
        "      \"brand\":[\n",
        "         \"tradit_vs_contemp\",\n",
        "         \"affordable_vs_exclusive\",\n",
        "         \"scarcity\",\n",
        "         \"innovative\",\n",
        "         \"ethical_ops\",\n",
        "         \"sustainability\",\n",
        "         \"transparency\"\n",
        "      ],\n",
        "      \"functional\":[\n",
        "         \"compatibility\",\n",
        "         \"durability\",\n",
        "         \"specific_features\"\n",
        "      ]\n",
        "   }\n",
        "}"
      ]
    },
    {
      "cell_type": "markdown",
      "source": [],
      "metadata": {
        "id": "mzYF-gtAAK-q"
      }
    }
  ]
}